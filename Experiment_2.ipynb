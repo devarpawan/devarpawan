{
  "nbformat": 4,
  "nbformat_minor": 0,
  "metadata": {
    "colab": {
      "provenance": [],
      "authorship_tag": "ABX9TyNdu3xVC5nxQrMnSp9zVCZo",
      "include_colab_link": true
    },
    "kernelspec": {
      "name": "python3",
      "display_name": "Python 3"
    },
    "language_info": {
      "name": "python"
    }
  },
  "cells": [
    {
      "cell_type": "markdown",
      "metadata": {
        "id": "view-in-github",
        "colab_type": "text"
      },
      "source": [
        "<a href=\"https://colab.research.google.com/github/devarpawan/devarpawan/blob/main/Experiment_2.ipynb\" target=\"_parent\"><img src=\"https://colab.research.google.com/assets/colab-badge.svg\" alt=\"Open In Colab\"/></a>"
      ]
    },
    {
      "cell_type": "code",
      "execution_count": 1,
      "metadata": {
        "colab": {
          "base_uri": "https://localhost:8080/"
        },
        "id": "2gWPJFwZfZbO",
        "outputId": "3be16bae-8e0b-44b5-a133-9a4e85ada4c6"
      },
      "outputs": [
        {
          "output_type": "stream",
          "name": "stdout",
          "text": [
            "Enter the temperature (°C): 30\n",
            "Enter the humidity (%): 17\n",
            "Enter the wind speed (m/s): 4\n",
            "\n",
            "Weather Prediction Calculation:\n",
            "Temperature (t) = 30.0°C\n",
            "Humidity (h) = 17.0%\n",
            "Wind Speed (w) = 4.0 m/s (Note: this is not used directly in the formula but included in the inputs)\n",
            "\n",
            "Using the formula:\n",
            "w = (0.5 * t^2 - 0.2 * h - 15) / 0.9\n",
            "\n",
            "Calculated Weather Prediction (w) = 480\n",
            "Weather Condition: Sunny\n"
          ]
        }
      ],
      "source": [
        "#program for wheather prediction\n",
        "def weather_prediction(t, h, w):\n",
        "    result = (0.5 * t**2 - 0.2 * h - 15) / 0.9\n",
        "    result = round(result)\n",
        "\n",
        "    print(\"\\nWeather Prediction Calculation:\")\n",
        "    print(f\"Temperature (t) = {t}°C\")\n",
        "    print(f\"Humidity (h) = {h}%\")\n",
        "    print(f\"Wind Speed (w) = {w} m/s (Note: this is not used directly in the formula but included in the inputs)\")\n",
        "    print(\"\\nUsing the formula:\")\n",
        "    print(\"w = (0.5 * t^2 - 0.2 * h - 15) / 0.9\")\n",
        "\n",
        "    print(f\"\\nCalculated Weather Prediction (w) = {result}\")\n",
        "\n",
        "    if result > 40:\n",
        "        weather_condition = \"Sunny\"\n",
        "    elif 20 <= result <= 40:\n",
        "        weather_condition = \"Partly Cloudy\"\n",
        "    elif 0 <= result < 20:\n",
        "        weather_condition = \"Cloudy\"\n",
        "    elif result < 0:\n",
        "        weather_condition = \"Rainy\"\n",
        "\n",
        "    print(f\"Weather Condition: {weather_condition}\")\n",
        "\n",
        "\n",
        "temperature = float(input(\"Enter the temperature (°C): \"))\n",
        "humidity = float(input(\"Enter the humidity (%): \"))\n",
        "wind_speed = float(input(\"Enter the wind speed (m/s): \"))\n",
        "\n",
        "weather_prediction(temperature, humidity, wind_speed)"
      ]
    }
  ]
}