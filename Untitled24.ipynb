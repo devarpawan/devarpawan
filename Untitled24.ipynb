{
  "nbformat": 4,
  "nbformat_minor": 0,
  "metadata": {
    "colab": {
      "provenance": [],
      "authorship_tag": "ABX9TyMIzmWBgt7xTus3XF0bCJfZ",
      "include_colab_link": true
    },
    "kernelspec": {
      "name": "python3",
      "display_name": "Python 3"
    },
    "language_info": {
      "name": "python"
    }
  },
  "cells": [
    {
      "cell_type": "markdown",
      "metadata": {
        "id": "view-in-github",
        "colab_type": "text"
      },
      "source": [
        "<a href=\"https://colab.research.google.com/github/devarpawan/devarpawan/blob/main/Untitled24.ipynb\" target=\"_parent\"><img src=\"https://colab.research.google.com/assets/colab-badge.svg\" alt=\"Open In Colab\"/></a>"
      ]
    },
    {
      "cell_type": "code",
      "execution_count": 1,
      "metadata": {
        "colab": {
          "base_uri": "https://localhost:8080/"
        },
        "id": "qLwlRunHfceq",
        "outputId": "e2a848b3-1324-4cf7-ecd4-5fb64541330d"
      },
      "outputs": [
        {
          "output_type": "stream",
          "name": "stdout",
          "text": [
            "Initial State:\n",
            "2 8 3\n",
            "1 6 4\n",
            "7 0 5\n",
            "\n",
            "No solution found.\n"
          ]
        }
      ],
      "source": [
        "import heapq\n",
        "\n",
        "# Define the goal state of the 8 puzzle\n",
        "goal_state = ((1, 2, 3), (4, 5, 6), (7, 8, 0))\n",
        "\n",
        "# Directions for moving the empty space (up, down, left, right)\n",
        "directions = [(-1, 0), (1, 0), (0, -1), (0, 1)]\n",
        "\n",
        "def flatten(state):\n",
        "    return [tile for row in state for tile in row]\n",
        "\n",
        "def is_valid_move(x, y):\n",
        "    return 0 <= x < 3 and 0 <= y < 3\n",
        "\n",
        "def get_neighbors(state):\n",
        "    # Find the position of the empty space (0)\n",
        "    empty_x, empty_y = [(ix, iy) for ix, row in enumerate(state) for iy, tile in enumerate(row) if tile == 0][0]\n",
        "\n",
        "    neighbors = []\n",
        "\n",
        "    for dx, dy in directions:\n",
        "        new_x, new_y = empty_x + dx, empty_y + dy\n",
        "\n",
        "        if is_valid_move(new_x, new_y):\n",
        "            # Swap the empty space with the neighboring tile\n",
        "            new_state = [list(row) for row in state]\n",
        "            new_state[empty_x][empty_y], new_state[new_x][new_y] = new_state[new_x][new_y], new_state[empty_x][empty_y]\n",
        "            neighbors.append(tuple(tuple(row) for row in new_state))\n",
        "\n",
        "    return neighbors\n",
        "\n",
        "def heuristic(state):\n",
        "    # Manhattan distance heuristic\n",
        "    distance = 0\n",
        "    for i in range(3):\n",
        "        for j in range(3):\n",
        "            value = state[i][j]\n",
        "            if value != 0:\n",
        "                goal_x, goal_y = (value - 1) // 3, (value - 1) % 3\n",
        "                distance += abs(goal_x - i) + abs(goal_y - j)\n",
        "    return distance\n",
        "\n",
        "def a_star(start_state):\n",
        "    # Open list: (f_cost, g_cost, state, path)\n",
        "    open_list = []\n",
        "    heapq.heappush(open_list, (heuristic(start_state), 0, start_state, []))\n",
        "\n",
        "    # Closed list: visited states\n",
        "    closed_list = set()\n",
        "\n",
        "    while open_list:\n",
        "        f_cost, g_cost, current_state, path = heapq.heappop(open_list)\n",
        "\n",
        "        if current_state == goal_state:\n",
        "            return path\n",
        "\n",
        "        closed_list.add(current_state)\n",
        "\n",
        "        for neighbor in get_neighbors(current_state):\n",
        "            if neighbor not in closed_list:\n",
        "                h_cost = heuristic(neighbor)\n",
        "                heapq.heappush(open_list, (g_cost + 1 + h_cost, g_cost + 1, neighbor, path + [neighbor]))\n",
        "\n",
        "    return None  # No solution found\n",
        "\n",
        "def print_state(state):\n",
        "    for row in state:\n",
        "        print(\" \".join(map(str, row)))\n",
        "    print()\n",
        "\n",
        "# Example usage\n",
        "if __name__ == \"__main__\":\n",
        "    start_state = ((2, 8, 3), (1, 6, 4), (7, 0, 5))\n",
        "\n",
        "    print(\"Initial State:\")\n",
        "    print_state(start_state)\n",
        "\n",
        "    solution = a_star(start_state)\n",
        "\n",
        "    if solution:\n",
        "        print(\"Solution found:\")\n",
        "        for step in solution:\n",
        "            print_state(step)\n",
        "    else:\n",
        "        print(\"No solution found.\")\n"
      ]
    }
  ]
}