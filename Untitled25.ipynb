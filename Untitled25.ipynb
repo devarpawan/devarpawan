{
  "nbformat": 4,
  "nbformat_minor": 0,
  "metadata": {
    "colab": {
      "provenance": [],
      "authorship_tag": "ABX9TyPUfBPAOu2TDFmbTD42s/jW",
      "include_colab_link": true
    },
    "kernelspec": {
      "name": "python3",
      "display_name": "Python 3"
    },
    "language_info": {
      "name": "python"
    }
  },
  "cells": [
    {
      "cell_type": "markdown",
      "metadata": {
        "id": "view-in-github",
        "colab_type": "text"
      },
      "source": [
        "<a href=\"https://colab.research.google.com/github/devarpawan/devarpawan/blob/main/Untitled25.ipynb\" target=\"_parent\"><img src=\"https://colab.research.google.com/assets/colab-badge.svg\" alt=\"Open In Colab\"/></a>"
      ]
    },
    {
      "cell_type": "code",
      "execution_count": 3,
      "metadata": {
        "colab": {
          "base_uri": "https://localhost:8080/"
        },
        "id": "ATQxIKgxjP-r",
        "outputId": "25e5a32e-9f9f-4308-b15a-a9a23750aa12"
      },
      "outputs": [
        {
          "output_type": "stream",
          "name": "stdout",
          "text": [
            "==== Quadratic Equation Solver ====\n",
            "Choose an option:\n",
            "1. Hardcoded variables\n",
            "2. Accept variables via keyboard input\n",
            "3. Read variables from a file (single set)\n",
            "4. Process multiple sets of inputs from a file\n",
            "Enter your choice (1/2/3/4): 1\n",
            "\n",
            "--- Hardcoded Variables ---\n",
            "For a=1, b=-3, c=2 -> Roots: (2.0, 1.0)\n"
          ]
        }
      ],
      "source": [
        "import math\n",
        "\n",
        "# Function to solve quadratic equation\n",
        "def solve_quadratic(a, b, c):\n",
        "    if a == 0:\n",
        "        return \"Not a quadratic equation (a cannot be zero)\"\n",
        "    discriminant = b**2 - 4*a*c\n",
        "    if discriminant < 0:\n",
        "        return \"No real roots\"\n",
        "    root1 = (-b + math.sqrt(discriminant)) / (2*a)\n",
        "    root2 = (-b - math.sqrt(discriminant)) / (2*a)\n",
        "    return root1, root2\n",
        "\n",
        "# Function to read variables from file (single line)\n",
        "def read_variables_from_file(filename):\n",
        "    with open(filename, 'r') as file:\n",
        "        line = file.readline().strip()\n",
        "        return [float(x) for x in line.split()]\n",
        "\n",
        "# Function to process multiple sets of inputs from a file\n",
        "def process_multiple_sets(filename):\n",
        "    with open(filename, 'r') as file:\n",
        "        print(\"\\n--- Processing Multiple Sets of Inputs ---\")\n",
        "        for i, line in enumerate(file, start=1):\n",
        "            try:\n",
        "                a, b, c = [float(x) for x in line.strip().split()]\n",
        "                result = solve_quadratic(a, b, c)\n",
        "                print(f\"Set {i}: a={a}, b={b}, c={c} -> Roots: {result}\")\n",
        "            except ValueError:\n",
        "                print(f\"Set {i}: Invalid input format -> {line.strip()}\")\n",
        "\n",
        "# Main program with menu-based selection\n",
        "def main():\n",
        "    print(\"==== Quadratic Equation Solver ====\")\n",
        "    print(\"Choose an option:\")\n",
        "    print(\"1. Hardcoded variables\")\n",
        "    print(\"2. Accept variables via keyboard input\")\n",
        "    print(\"3. Read variables from a file (single set)\")\n",
        "    print(\"4. Process multiple sets of inputs from a file\")\n",
        "\n",
        "    choice = input(\"Enter your choice (1/2/3/4): \")\n",
        "\n",
        "    if choice == '1':\n",
        "        # Hardcoded inputs\n",
        "        print(\"\\n--- Hardcoded Variables ---\")\n",
        "        a, b, c = 1, -3, 2\n",
        "        result = solve_quadratic(a, b, c)\n",
        "        print(f\"For a={a}, b={b}, c={c} -> Roots: {result}\")\n",
        "\n",
        "    elif choice == '2':\n",
        "        # Accept input from keyboard\n",
        "        print(\"\\n--- Keyboard Input ---\")\n",
        "        try:\n",
        "            a = float(input(\"Enter value for a: \"))\n",
        "            b = float(input(\"Enter value for b: \"))\n",
        "            c = float(input(\"Enter value for c: \"))\n",
        "            result = solve_quadratic(a, b, c)\n",
        "            print(f\"For a={a}, b={b}, c={c} -> Roots: {result}\")\n",
        "        except ValueError:\n",
        "            print(\"Invalid input! Please enter numeric values.\")\n",
        "\n",
        "    elif choice == '3':\n",
        "        # Read variables from file (single line)\n",
        "        print(\"\\n--- File Input (Single Set) ---\")\n",
        "        filename = input(\"Enter the filename (e.g., input.txt): \")\n",
        "        try:\n",
        "            a, b, c = read_variables_from_file(filename)\n",
        "            result = solve_quadratic(a, b, c)\n",
        "            print(f\"For a={a}, b={b}, c={c} -> Roots: {result}\")\n",
        "        except (ValueError, FileNotFoundError):\n",
        "            print(\"Error reading file. Ensure the file exists and has valid input.\")\n",
        "\n",
        "    elif choice == '4':\n",
        "        # Process multiple sets of inputs from file\n",
        "        print(\"\\n--- File Input (Multiple Sets) ---\")\n",
        "        filename = input(\"Enter the filename (e.g., input_multiple.txt): \")\n",
        "        try:\n",
        "            process_multiple_sets(filename)\n",
        "        except FileNotFoundError:\n",
        "            print(\"Error: File not found. Check the filename and try again.\")\n",
        "\n",
        "    else:\n",
        "        print(\"Invalid choice! Please select a valid option.\")\n",
        "\n",
        "# Run the program\n",
        "if __name__ == \"__main__\":\n",
        "    main()\n"
      ]
    }
  ]
}